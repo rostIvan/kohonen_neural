{
 "cells": [
  {
   "cell_type": "code",
   "execution_count": 600,
   "metadata": {
    "pycharm": {
     "is_executing": false,
     "name": "#%%\n"
    }
   },
   "outputs": [],
   "source": [
    "import numpy as np\n",
    "%matplotlib inline"
   ]
  },
  {
   "cell_type": "code",
   "execution_count": 601,
   "outputs": [],
   "source": [
    "def is_vowel(c: str) -> bool:\n",
    "    return c.lower() in ['а', 'є', 'є', 'и', 'і', 'ї', 'о', 'у', 'ю', 'я']\n",
    "\n",
    "\n",
    "def word_to_bits(word1):\n",
    "    return [1 if is_vowel(c) else 0 for c in word1]\n",
    "\n",
    "\n",
    "def fill_zeros_to_size(array, size):\n",
    "    while len(array) != size:\n",
    "        array.append(0)\n",
    "\n",
    "\n",
    "def inverse_bit(bits, i):\n",
    "    x = bits.copy()\n",
    "    x[i] = int(not x[i])\n",
    "    return x\n",
    "\n",
    "\n",
    "def get_fullname_vectors(fullname_vector):\n",
    "    word1, word2, word3 = sorted(fullname_vector,\n",
    "                                 key=lambda x: len(x),\n",
    "                                 reverse=True)\n",
    "    word1_bits = word_to_bits(word1)\n",
    "    word2_bits = word_to_bits(word2)\n",
    "    word3_bits = word_to_bits(word3)\n",
    "    fill_zeros_to_size(word2_bits, len(word1_bits))\n",
    "    fill_zeros_to_size(word3_bits, len(word1_bits))\n",
    "\n",
    "    v1 = word1_bits\n",
    "    v4 = word2_bits\n",
    "    v5 = word3_bits\n",
    "\n",
    "    v2, v3 = inverse_bit(v1, 2), inverse_bit(v1, 3)\n",
    "    v6, v7 = inverse_bit(v4, 2), inverse_bit(v4, 3)\n",
    "    v8, v9 = inverse_bit(v5, 2), inverse_bit(v5, 3)\n",
    "\n",
    "    return v1, v2, v3, v4, v5, v6, v7, v8, v9\n",
    "\n",
    "def is_end_condition(current_weights, previous_weights):\n",
    "    return np.all(np.abs(current_weights - previous_weights) <= threshold)\n",
    "\n",
    "def change_weights(_weights, s_i):\n",
    "    return _weights + (lr * (s_i - _weights))\n",
    "\n",
    "def get_distances(_weights, vector):\n",
    "    return np.sum((_weights.T - vector) ** 2, axis=1)\n",
    "\n",
    "def get_winner_index(_weights, vector):\n",
    "    return np.argmin(get_distances(_weights, vector))"
   ],
   "metadata": {
    "collapsed": false,
    "pycharm": {
     "name": "#%%\n",
     "is_executing": false
    }
   }
  },
  {
   "cell_type": "code",
   "execution_count": 602,
   "metadata": {
    "pycharm": {
     "is_executing": false,
     "name": "#%%\n"
    }
   },
   "outputs": [
    {
     "name": "stdout",
     "text": [
      "['Іванків' 'Ростислав' 'Богданович']\n",
      "Max len: 10\n",
      "Max word: Богданович\n"
     ],
     "output_type": "stream"
    }
   ],
   "source": [
    "fullname = np.array(['Іванків', 'Ростислав', 'Богданович'])\n",
    "print(fullname)\n",
    "print(f'Max len: {max(*map(len, fullname))}')\n",
    "print(f'Max word: {max(fullname, key=len)}')"
   ]
  },
  {
   "cell_type": "code",
   "execution_count": 603,
   "metadata": {
    "pycharm": {
     "is_executing": false,
     "name": "#%%\n"
    }
   },
   "outputs": [
    {
     "name": "stdout",
     "text": [
      "[[0 1 0 0 1 0 1 0 1 0]\n",
      " [0 1 1 0 1 0 1 0 1 0]\n",
      " [0 1 0 1 1 0 1 0 1 0]\n",
      " [0 1 0 0 1 0 0 1 0 0]\n",
      " [1 0 1 0 0 1 0 0 0 0]\n",
      " [0 1 1 0 1 0 0 1 0 0]\n",
      " [0 1 0 1 1 0 0 1 0 0]\n",
      " [1 0 0 0 0 1 0 0 0 0]\n",
      " [1 0 1 1 0 1 0 0 0 0]]\n"
     ],
     "output_type": "stream"
    }
   ],
   "source": [
    "fullname_vectors = np.array(get_fullname_vectors(fullname))\n",
    "print(fullname_vectors)"
   ]
  },
  {
   "cell_type": "code",
   "execution_count": 604,
   "outputs": [
    {
     "name": "stdout",
     "text": [
      "[[1.   0.6  0.1 ]\n",
      " [0.   0.2  0.1 ]\n",
      " [0.   0.2  0.1 ]\n",
      " [0.1  0.3  0.34]\n",
      " [0.88 0.3  0.32]\n",
      " [0.44 0.2  0.22]\n",
      " [0.01 0.6  0.6 ]\n",
      " [0.2  0.6  0.5 ]\n",
      " [0.3  0.3  0.3 ]\n",
      " [0.1  0.2  1.  ]]\n"
     ],
     "output_type": "stream"
    }
   ],
   "source": [
    "weights = np.array([[1.0, 0.6, 0.1],\n",
    "                    [0.0, 0.2, 0.1],\n",
    "                    [0.0, 0.2, 0.1],\n",
    "                    [0.1, 0.3, 0.34],\n",
    "                    [0.88, 0.3, 0.32],\n",
    "                    [0.44, 0.2, 0.22],\n",
    "                    [0.01, 0.6, 0.6],\n",
    "                    [0.2, 0.6, 0.5],\n",
    "                    [0.3, 0.3, 0.3],\n",
    "                    [0.1, 0.2, 1.0]])\n",
    "print(weights)"
   ],
   "metadata": {
    "collapsed": false,
    "pycharm": {
     "name": "#%%\n",
     "is_executing": false
    }
   }
  },
  {
   "cell_type": "code",
   "execution_count": 605,
   "outputs": [],
   "source": [
    "num_of_vectors, vectors_dimension = fullname_vectors.shape\n",
    "num_of_classes = 3\n",
    "lr = 0.6 # learning rate\n",
    "k = 0.5\n",
    "threshold = 0.0005\n",
    "\n",
    "assert (vectors_dimension, num_of_classes) == weights.shape\n",
    "assert np.all((0 <= weights) & (weights <= 1))"
   ],
   "metadata": {
    "collapsed": false,
    "pycharm": {
     "name": "#%%\n",
     "is_executing": false
    }
   }
  },
  {
   "cell_type": "code",
   "execution_count": 606,
   "outputs": [
    {
     "name": "stdout",
     "text": [
      "[[1.61984027e-02 5.11528507e-03 9.80817681e-01]\n",
      " [9.83801597e-01 9.93179620e-01 2.13136878e-03]\n",
      " [3.29351292e-01 3.18268174e-01 6.64254602e-01]\n",
      " [4.20244439e-01 4.22461062e-01 4.27150074e-01]\n",
      " [9.86802565e-01 9.94032167e-01 6.82038009e-03]\n",
      " [1.42886963e-02 1.70509502e-03 9.83375324e-01]\n",
      " [3.41019004e-05 9.96589810e-01 1.27882127e-02]\n",
      " [9.84483635e-01 5.11528507e-03 1.06568439e-02]\n",
      " [1.02305701e-03 9.94032167e-01 6.39410633e-03]\n",
      " [3.41019004e-04 1.70509502e-03 2.13136878e-02]]\n",
      "[[0.02 0.01 0.98]\n",
      " [0.98 0.99 0.  ]\n",
      " [0.33 0.32 0.66]\n",
      " [0.42 0.42 0.43]\n",
      " [0.99 0.99 0.01]\n",
      " [0.01 0.   0.98]\n",
      " [0.   1.   0.01]\n",
      " [0.98 0.01 0.01]\n",
      " [0.   0.99 0.01]\n",
      " [0.   0.   0.02]]\n"
     ],
     "output_type": "stream"
    }
   ],
   "source": [
    "flag = True\n",
    "while flag:\n",
    "    for v in fullname_vectors:\n",
    "        winner_index = get_winner_index(weights, v)\n",
    "        w_before = weights.copy()\n",
    "        weights[:,winner_index] = change_weights(weights[:,winner_index], v)\n",
    "        if is_end_condition(weights, w_before):\n",
    "            flag = False\n",
    "    lr = lr * k\n",
    "\n",
    "print(weights)\n",
    "print(np.round(weights, decimals=2))"
   ],
   "metadata": {
    "collapsed": false,
    "pycharm": {
     "name": "#%%\n",
     "is_executing": false
    }
   }
  },
  {
   "cell_type": "code",
   "execution_count": 607,
   "outputs": [
    {
     "name": "stdout",
     "text": [
      "The [0 1 0 0 1 0 1 0 1 0] related to 2 cluster\n",
      "The [0 1 1 0 1 0 1 0 1 0] related to 2 cluster\n",
      "The [0 1 0 1 1 0 1 0 1 0] related to 2 cluster\n",
      "The [0 1 0 0 1 0 0 1 0 0] related to 1 cluster\n",
      "The [1 0 1 0 0 1 0 0 0 0] related to 3 cluster\n",
      "The [0 1 1 0 1 0 0 1 0 0] related to 1 cluster\n",
      "The [0 1 0 1 1 0 0 1 0 0] related to 1 cluster\n",
      "The [1 0 0 0 0 1 0 0 0 0] related to 3 cluster\n",
      "The [1 0 1 1 0 1 0 0 0 0] related to 3 cluster\n"
     ],
     "output_type": "stream"
    }
   ],
   "source": [
    "for v in fullname_vectors:\n",
    "    cluster = get_winner_index(weights, v)\n",
    "    print(f'The {v} related to {cluster + 1} cluster')"
   ],
   "metadata": {
    "collapsed": false,
    "pycharm": {
     "name": "#%%\n",
     "is_executing": false
    }
   }
  },
  {
   "cell_type": "code",
   "execution_count": 607,
   "outputs": [],
   "source": [],
   "metadata": {
    "collapsed": false,
    "pycharm": {
     "name": "#%%\n",
     "is_executing": false
    }
   }
  }
 ],
 "metadata": {
  "kernelspec": {
   "display_name": "Python 3",
   "language": "python",
   "name": "python3"
  },
  "language_info": {
   "codemirror_mode": {
    "name": "ipython",
    "version": 3
   },
   "file_extension": ".py",
   "mimetype": "text/x-python",
   "name": "python",
   "nbconvert_exporter": "python",
   "pygments_lexer": "ipython3",
   "version": "3.7.4"
  },
  "pycharm": {
   "stem_cell": {
    "cell_type": "raw",
    "source": [],
    "metadata": {
     "collapsed": false
    }
   }
  }
 },
 "nbformat": 4,
 "nbformat_minor": 1
}