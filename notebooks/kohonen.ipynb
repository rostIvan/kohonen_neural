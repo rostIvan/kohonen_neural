{
 "cells": [
  {
   "cell_type": "code",
   "execution_count": 146,
   "metadata": {
    "pycharm": {
     "is_executing": false,
     "name": "#%%\n"
    }
   },
   "outputs": [],
   "source": [
    "import sys\n",
    "sys.path.append('../src/')\n",
    "\n",
    "import numpy as np\n",
    "from src.utils import get_fullname_vectors, get_initial_weights"
   ]
  },
  {
   "cell_type": "code",
   "execution_count": 147,
   "metadata": {
    "pycharm": {
     "is_executing": false,
     "name": "#%%\n"
    }
   },
   "outputs": [
    {
     "name": "stdout",
     "text": [
      "['Іванків' 'Ростислав' 'Богданович']\n",
      "Max len: 10\n",
      "Max word: Богданович\n"
     ],
     "output_type": "stream"
    }
   ],
   "source": [
    "fullname = np.array(['Іванків', 'Ростислав', 'Богданович'])\n",
    "print(fullname)\n",
    "print(f'Max len: {max(*map(len, fullname))}')\n",
    "print(f'Max word: {max(fullname, key=len)}')"
   ]
  },
  {
   "cell_type": "code",
   "execution_count": 148,
   "metadata": {
    "pycharm": {
     "is_executing": false,
     "name": "#%%\n"
    }
   },
   "outputs": [
    {
     "name": "stdout",
     "text": [
      "[[0 1 0 0 1 0 1 0 1 0]\n",
      " [0 1 0 0 1 0 1 1 1 0]\n",
      " [0 1 0 0 1 0 0 0 1 0]\n",
      " [0 1 0 0 1 0 0 1 0 0]\n",
      " [1 0 1 0 0 1 0 0 0 0]\n",
      " [0 1 0 0 1 0 0 0 0 0]\n",
      " [0 1 0 0 1 0 1 1 0 0]\n",
      " [1 0 1 0 0 1 0 1 0 0]\n",
      " [1 0 1 0 0 1 1 0 0 0]]\n"
     ],
     "output_type": "stream"
    }
   ],
   "source": [
    "fullname_vectors = np.array(get_fullname_vectors(fullname))\n",
    "print(fullname_vectors)"
   ]
  },
  {
   "cell_type": "code",
   "execution_count": 149,
   "outputs": [
    {
     "name": "stdout",
     "text": [
      "[[0.1 0.2 0.3]\n",
      " [0.1 0.2 0.3]\n",
      " [0.1 0.2 0.3]\n",
      " [0.1 0.5 0.3]\n",
      " [0.8 0.7 0.3]\n",
      " [0.9 0.2 0.2]\n",
      " [0.  0.6 0.6]\n",
      " [0.2 0.6 0.5]\n",
      " [0.3 0.3 0.3]\n",
      " [0.1 0.2 1. ]]\n"
     ],
     "output_type": "stream"
    }
   ],
   "source": [
    "weights = np.array(get_initial_weights())\n",
    "print(weights)"
   ],
   "metadata": {
    "collapsed": false,
    "pycharm": {
     "name": "#%%\n",
     "is_executing": false
    }
   }
  },
  {
   "cell_type": "code",
   "execution_count": 150,
   "metadata": {
    "pycharm": {
     "is_executing": false,
     "name": "#%%\n"
    }
   },
   "outputs": [],
   "source": [
    "num_of_vectors, vectors_dimension = fullname_vectors.shape\n",
    "num_of_classes = 3\n",
    "R = 0\n",
    "LR = 0.6 # learning rate\n",
    "threshold = 0.0005\n",
    "\n",
    "assert (vectors_dimension, num_of_classes) == weights.shape\n",
    "assert np.all((0 <= weights) & (weights <= 1))"
   ]
  },
  {
   "cell_type": "code",
   "execution_count": 151,
   "metadata": {
    "pycharm": {
     "is_executing": false,
     "name": "#%%\n"
    }
   },
   "outputs": [],
   "source": [
    "def end_condition(current_weights, previous_weights):\n",
    "    return np.all(np.abs(current_weights - previous_weights) <= threshold)\n",
    "\n",
    "def change_weights(_weights, s_i):\n",
    "    return _weights + (LR * (s_i - _weights))\n",
    "\n",
    "def get_winner_index(_weights):\n",
    "    return np.argmin(np.sum((_weights.T - v) ** 2, axis=1))"
   ]
  },
  {
   "cell_type": "code",
   "execution_count": 152,
   "metadata": {
    "pycharm": {
     "is_executing": false,
     "name": "#%%\n"
    }
   },
   "outputs": [
    {
     "name": "stdout",
     "text": [
      "[[0.98748012 0.02503977]\n",
      " [0.57832124 0.00417329]\n",
      " [0.02086647 0.58249453]\n",
      " [0.00834659 0.99582671]]\n"
     ],
     "output_type": "stream"
    }
   ],
   "source": [
    "weights = np.array([[0.7, 0.6],\n",
    "                    [0.4, 0.1],\n",
    "                    [0.5, 0.5],\n",
    "                    [0.2, 0.9]])\n",
    "\n",
    "fullname_vectors = np.array([[0, 0, 0, 1],\n",
    "                             [0, 0, 1, 1],\n",
    "                             [1, 0, 0, 0],\n",
    "                             [1, 1, 0, 0]])\n",
    "\n",
    "flag = True\n",
    "while flag:\n",
    "    for v in fullname_vectors:\n",
    "        winner_index = get_winner_index(weights)\n",
    "        w_before = weights.copy()\n",
    "        weights[:,winner_index] = change_weights(weights[:,winner_index], v)\n",
    "        # print(w_before[:,winner_index], '->', weights[:,winner_index])\n",
    "        if end_condition(weights, w_before):\n",
    "            flag = False\n",
    "    LR = LR * 0.5\n",
    "\n",
    "print(weights)"
   ]
  },
  {
   "cell_type": "code",
   "execution_count": 152,
   "metadata": {
    "pycharm": {
     "is_executing": false
    }
   },
   "outputs": [],
   "source": []
  }
 ],
 "metadata": {
  "kernelspec": {
   "display_name": "Python 3",
   "language": "python",
   "name": "python3"
  },
  "language_info": {
   "codemirror_mode": {
    "name": "ipython",
    "version": 3
   },
   "file_extension": ".py",
   "mimetype": "text/x-python",
   "name": "python",
   "nbconvert_exporter": "python",
   "pygments_lexer": "ipython3",
   "version": "3.7.4"
  },
  "pycharm": {
   "stem_cell": {
    "cell_type": "raw",
    "source": [],
    "metadata": {
     "collapsed": false
    }
   }
  }
 },
 "nbformat": 4,
 "nbformat_minor": 1
}